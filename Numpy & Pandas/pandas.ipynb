{
 "cells": [
  {
   "cell_type": "code",
   "execution_count": 1,
   "id": "a09b0eab-6caa-46fb-8a14-7b9450f62d3a",
   "metadata": {},
   "outputs": [],
   "source": [
    "import pandas as pd"
   ]
  },
  {
   "cell_type": "markdown",
   "id": "90a384bd-c487-47a1-836e-6ddcb7126b3a",
   "metadata": {},
   "source": [
    "#### Series (1-dimensional labeled array )"
   ]
  },
  {
   "cell_type": "code",
   "execution_count": 2,
   "id": "a4686958-05fe-4ba0-87cd-774a8f8a3812",
   "metadata": {},
   "outputs": [
    {
     "name": "stdout",
     "output_type": "stream",
     "text": [
      "Series:\n",
      "  0    10\n",
      "1    20\n",
      "2    40\n",
      "3    50\n",
      "dtype: int64\n"
     ]
    }
   ],
   "source": [
    "# creating series\n",
    "\n",
    "s = pd.Series([10,20,40,50])\n",
    "\n",
    "print(\"Series:\\n \", s)"
   ]
  },
  {
   "cell_type": "markdown",
   "id": "191358a8-46c2-4e0d-b7c1-accb2756e79d",
   "metadata": {},
   "source": [
    "#### DataFrame (2-dimensional labeled array)"
   ]
  },
  {
   "cell_type": "code",
   "execution_count": 3,
   "id": "10ba781a-c8ce-4085-a237-fbe001c7d396",
   "metadata": {},
   "outputs": [
    {
     "name": "stdout",
     "output_type": "stream",
     "text": [
      "DataFrame: \n",
      "{'Name': ['Dinesh', 'Omkar', 'Tanmay', 'Pragati'], 'Age': [19, 18, 22, 20], 'Salary': [200000, 150000, 5000000, 1000000]}\n"
     ]
    }
   ],
   "source": [
    "data ={ \"Name\":[\"Dinesh\", \"Omkar\", \"Tanmay\", \"Pragati\"],\n",
    "       \"Age\": [19,18, 22, 20],\n",
    "       \"Salary\" : [200000, 150000, 5000000, 1000000]}\n",
    "\n",
    "df = pd.DataFrame(data)\n",
    "\n",
    "print(\"DataFrame: \")\n",
    "print(data)"
   ]
  },
  {
   "cell_type": "markdown",
   "id": "b6434123-946a-431c-afb9-0e1e4ac63658",
   "metadata": {},
   "source": [
    "#### Data Loading and Inspection \n",
    "Pandas can read data from various file formats like CSV, Excel, SQL databases, etc. It also provides methods to inspect and get insights from the loaded data."
   ]
  },
  {
   "cell_type": "code",
   "execution_count": 4,
   "id": "12c2a7b7-7bcf-4b33-a7bf-29bd76812192",
   "metadata": {},
   "outputs": [
    {
     "name": "stdout",
     "output_type": "stream",
     "text": [
      "\n",
      " Head : \n",
      "   Month   \"1958\"   \"1959\"   \"1960\"\n",
      "0   JAN      340      360      417\n",
      "1   FEB      318      342      391\n",
      "2   MAR      362      406      419\n",
      "3   APR      348      396      461\n",
      "4   MAY      363      420      472\n",
      "<class 'pandas.core.frame.DataFrame'>\n",
      "RangeIndex: 12 entries, 0 to 11\n",
      "Data columns (total 4 columns):\n",
      " #   Column   Non-Null Count  Dtype \n",
      "---  ------   --------------  ----- \n",
      " 0   Month    12 non-null     object\n",
      " 1    \"1958\"  12 non-null     int64 \n",
      " 2    \"1959\"  12 non-null     int64 \n",
      " 3    \"1960\"  12 non-null     int64 \n",
      "dtypes: int64(3), object(1)\n",
      "memory usage: 516.0+ bytes\n",
      "\n",
      " Info: \n",
      " None\n",
      "\n",
      " Describe: \n",
      "            \"1958\"      \"1959\"      \"1960\"\n",
      "count   12.000000   12.000000   12.000000\n",
      "mean   381.000000  428.333333  476.166667\n",
      "std     64.530472   69.830097   77.737125\n",
      "min    310.000000  342.000000  390.000000\n",
      "25%    339.250000  387.500000  418.500000\n",
      "50%    360.500000  406.500000  461.000000\n",
      "75%    411.750000  465.250000  514.750000\n",
      "max    505.000000  559.000000  622.000000\n",
      "\n",
      " Display: \n",
      "    Month   \"1958\"   \"1959\"   \"1960\"\n",
      "0    JAN      340      360      417\n",
      "1    FEB      318      342      391\n",
      "2    MAR      362      406      419\n",
      "3    APR      348      396      461\n",
      "4    MAY      363      420      472\n",
      "5    JUN      435      472      535\n",
      "6    JUL      491      548      622\n",
      "7    AUG      505      559      606\n",
      "8    SEP      404      463      508\n",
      "9    OCT      359      407      461\n",
      "10   NOV      310      362      390\n",
      "11   DEC      337      405      432\n"
     ]
    }
   ],
   "source": [
    "df = pd.read_csv(\"airtravel.csv\")\n",
    "\n",
    "# Displaying the first few rows of the DataFrame\n",
    "print(\"\\n Head : \\n\", df.head())\n",
    "\n",
    "# Getting information about the DataFrame\n",
    "print(\"\\n Info: \\n\", df.info())\n",
    "\n",
    "# Getting summary statistics of the DataFrame\n",
    "print(\"\\n Describe: \\n\", df.describe())\n",
    "\n",
    "\n",
    "print(\"\\n Display: \\n\", df)"
   ]
  },
  {
   "cell_type": "code",
   "execution_count": 5,
   "id": "09367691-0446-463b-8156-54d7c1216486",
   "metadata": {},
   "outputs": [
    {
     "name": "stdout",
     "output_type": "stream",
     "text": [
      "\n",
      " Data: \n",
      "       User ID  Gender  Age  EstimatedSalary  Purchased\n",
      "0    15624510    Male   19            19000          0\n",
      "1    15810944    Male   35            20000          0\n",
      "2    15668575  Female   26            43000          0\n",
      "3    15603246  Female   27            57000          0\n",
      "4    15804002    Male   19            76000          0\n",
      "..        ...     ...  ...              ...        ...\n",
      "395  15691863  Female   46            41000          1\n",
      "396  15706071    Male   51            23000          1\n",
      "397  15654296  Female   50            20000          1\n",
      "398  15755018    Male   36            33000          0\n",
      "399  15594041  Female   49            36000          1\n",
      "\n",
      "[400 rows x 5 columns]\n",
      "\n",
      " Describe: \n",
      "             User ID         Age  EstimatedSalary   Purchased\n",
      "count  4.000000e+02  400.000000       400.000000  400.000000\n",
      "mean   1.569154e+07   37.655000     69742.500000    0.357500\n",
      "std    7.165832e+04   10.482877     34096.960282    0.479864\n",
      "min    1.556669e+07   18.000000     15000.000000    0.000000\n",
      "25%    1.562676e+07   29.750000     43000.000000    0.000000\n",
      "50%    1.569434e+07   37.000000     70000.000000    0.000000\n",
      "75%    1.575036e+07   46.000000     88000.000000    1.000000\n",
      "max    1.581524e+07   60.000000    150000.000000    1.000000\n",
      "<class 'pandas.core.frame.DataFrame'>\n",
      "RangeIndex: 400 entries, 0 to 399\n",
      "Data columns (total 5 columns):\n",
      " #   Column           Non-Null Count  Dtype \n",
      "---  ------           --------------  ----- \n",
      " 0   User ID          400 non-null    int64 \n",
      " 1   Gender           400 non-null    object\n",
      " 2   Age              400 non-null    int64 \n",
      " 3   EstimatedSalary  400 non-null    int64 \n",
      " 4   Purchased        400 non-null    int64 \n",
      "dtypes: int64(4), object(1)\n",
      "memory usage: 15.8+ KB\n",
      "\n",
      " Info: \n",
      " None\n"
     ]
    }
   ],
   "source": [
    "df = pd.read_csv(\"User_Data.csv\")\n",
    "\n",
    "print(\"\\n Data: \\n\", df)\n",
    "\n",
    "\n",
    "# Getting summary statistics of the DataFrame\n",
    "print(\"\\n Describe: \\n\", df.describe())\n",
    "\n",
    "print(\"\\n Info: \\n\", df.info())\n"
   ]
  },
  {
   "cell_type": "markdown",
   "id": "8f15b43b-0c56-4a76-961c-541571fe8f9e",
   "metadata": {},
   "source": [
    "#### Data Selection and Indexing:"
   ]
  },
  {
   "cell_type": "code",
   "execution_count": 6,
   "id": "b5938dad-912d-497d-93aa-cfb0da2b2b0d",
   "metadata": {},
   "outputs": [
    {
     "name": "stdout",
     "output_type": "stream",
     "text": [
      "Users:\n",
      "0      15624510\n",
      "1      15810944\n",
      "2      15668575\n",
      "3      15603246\n",
      "4      15804002\n",
      "         ...   \n",
      "395    15691863\n",
      "396    15706071\n",
      "397    15654296\n",
      "398    15755018\n",
      "399    15594041\n",
      "Name: User ID, Length: 400, dtype: int64\n",
      "\n",
      " Users Ages & Estimated Salary:\n",
      "     Age  EstimatedSalary\n",
      "0     19            19000\n",
      "1     35            20000\n",
      "2     26            43000\n",
      "3     27            57000\n",
      "4     19            76000\n",
      "..   ...              ...\n",
      "395   46            41000\n",
      "396   51            23000\n",
      "397   50            20000\n",
      "398   36            33000\n",
      "399   49            36000\n",
      "\n",
      "[400 rows x 2 columns]\n",
      "\n",
      "User who has Age > 30 :\n",
      "      User ID  Gender  Age  EstimatedSalary  Purchased\n",
      "1    15810944    Male   35            20000          0\n",
      "7    15694829  Female   32           150000          1\n",
      "9    15727311  Female   35            65000          0\n",
      "13   15704987    Male   32            18000          0\n",
      "16   15733883    Male   47            25000          1\n",
      "..        ...     ...  ...              ...        ...\n",
      "395  15691863  Female   46            41000          1\n",
      "396  15706071    Male   51            23000          1\n",
      "397  15654296  Female   50            20000          1\n",
      "398  15755018    Male   36            33000          0\n",
      "399  15594041  Female   49            36000          1\n",
      "\n",
      "[289 rows x 5 columns]\n",
      "\n",
      "At Row 1 by Label: \n",
      "User ID            15624510\n",
      "Gender                 Male\n",
      "Age                      19\n",
      "EstimatedSalary       19000\n",
      "Purchased                 0\n",
      "Name: 0, dtype: object\n",
      "\n",
      "At Row 1 by Position: \n",
      "User ID            15624510\n",
      "Gender                 Male\n",
      "Age                      19\n",
      "EstimatedSalary       19000\n",
      "Purchased                 0\n",
      "Name: 0, dtype: object\n",
      "\n",
      "Access By Column: \n",
      "0      19\n",
      "1      35\n",
      "2      26\n",
      "3      27\n",
      "4      19\n",
      "       ..\n",
      "395    46\n",
      "396    51\n",
      "397    50\n",
      "398    36\n",
      "399    49\n",
      "Name: Age, Length: 400, dtype: int64\n"
     ]
    }
   ],
   "source": [
    "# Selecting a single column\n",
    "print(\"Users:\")\n",
    "print(df['User ID'])\n",
    "\n",
    "# Selecting multiple columns\n",
    "print(\"\\n Users Ages & Estimated Salary:\")\n",
    "print(df[['Age', 'EstimatedSalary']])\n",
    "\n",
    "\n",
    "#Filtering rows based on a condition\n",
    "filtered_data = df[df['Age'] > 30]\n",
    "print(\"\\nUser who has Age > 30 :\")\n",
    "print(filtered_data)\n",
    "\n",
    "# Using loc and iloc for explicit indexing and slicing\n",
    "print(\"\\nAt Row 1 by Label: \")\n",
    "print(df.loc[0])      # Access row by label\n",
    "print(\"\\nAt Row 1 by Position: \")\n",
    "print(df.iloc[0])     # Access row by position\n",
    "print(\"\\nAccess By Column: \")\n",
    "print(df.loc[:, 'Age'])  # Access column by label\n"
   ]
  },
  {
   "cell_type": "markdown",
   "id": "d69b9300-6f60-4038-9d2e-bbd0691a049f",
   "metadata": {},
   "source": [
    "#### Data Cleaning And Preprocessing"
   ]
  },
  {
   "cell_type": "code",
   "execution_count": 7,
   "id": "605702e0-8213-4f90-9f16-ffeb66d11a6a",
   "metadata": {},
   "outputs": [
    {
     "data": {
      "text/html": [
       "<div>\n",
       "<style scoped>\n",
       "    .dataframe tbody tr th:only-of-type {\n",
       "        vertical-align: middle;\n",
       "    }\n",
       "\n",
       "    .dataframe tbody tr th {\n",
       "        vertical-align: top;\n",
       "    }\n",
       "\n",
       "    .dataframe thead th {\n",
       "        text-align: right;\n",
       "    }\n",
       "</style>\n",
       "<table border=\"1\" class=\"dataframe\">\n",
       "  <thead>\n",
       "    <tr style=\"text-align: right;\">\n",
       "      <th></th>\n",
       "      <th>User ID</th>\n",
       "      <th>Gender</th>\n",
       "      <th>Age</th>\n",
       "      <th>EstimatedSalary</th>\n",
       "      <th>Purchased</th>\n",
       "    </tr>\n",
       "  </thead>\n",
       "  <tbody>\n",
       "    <tr>\n",
       "      <th>0</th>\n",
       "      <td>15624510</td>\n",
       "      <td>Male</td>\n",
       "      <td>19</td>\n",
       "      <td>19000</td>\n",
       "      <td>0</td>\n",
       "    </tr>\n",
       "    <tr>\n",
       "      <th>1</th>\n",
       "      <td>15810944</td>\n",
       "      <td>Male</td>\n",
       "      <td>35</td>\n",
       "      <td>20000</td>\n",
       "      <td>0</td>\n",
       "    </tr>\n",
       "    <tr>\n",
       "      <th>2</th>\n",
       "      <td>15668575</td>\n",
       "      <td>Female</td>\n",
       "      <td>26</td>\n",
       "      <td>43000</td>\n",
       "      <td>0</td>\n",
       "    </tr>\n",
       "    <tr>\n",
       "      <th>3</th>\n",
       "      <td>15603246</td>\n",
       "      <td>Female</td>\n",
       "      <td>27</td>\n",
       "      <td>57000</td>\n",
       "      <td>0</td>\n",
       "    </tr>\n",
       "    <tr>\n",
       "      <th>4</th>\n",
       "      <td>15804002</td>\n",
       "      <td>Male</td>\n",
       "      <td>19</td>\n",
       "      <td>76000</td>\n",
       "      <td>0</td>\n",
       "    </tr>\n",
       "    <tr>\n",
       "      <th>...</th>\n",
       "      <td>...</td>\n",
       "      <td>...</td>\n",
       "      <td>...</td>\n",
       "      <td>...</td>\n",
       "      <td>...</td>\n",
       "    </tr>\n",
       "    <tr>\n",
       "      <th>395</th>\n",
       "      <td>15691863</td>\n",
       "      <td>Female</td>\n",
       "      <td>46</td>\n",
       "      <td>41000</td>\n",
       "      <td>1</td>\n",
       "    </tr>\n",
       "    <tr>\n",
       "      <th>396</th>\n",
       "      <td>15706071</td>\n",
       "      <td>Male</td>\n",
       "      <td>51</td>\n",
       "      <td>23000</td>\n",
       "      <td>1</td>\n",
       "    </tr>\n",
       "    <tr>\n",
       "      <th>397</th>\n",
       "      <td>15654296</td>\n",
       "      <td>Female</td>\n",
       "      <td>50</td>\n",
       "      <td>20000</td>\n",
       "      <td>1</td>\n",
       "    </tr>\n",
       "    <tr>\n",
       "      <th>398</th>\n",
       "      <td>15755018</td>\n",
       "      <td>Male</td>\n",
       "      <td>36</td>\n",
       "      <td>33000</td>\n",
       "      <td>0</td>\n",
       "    </tr>\n",
       "    <tr>\n",
       "      <th>399</th>\n",
       "      <td>15594041</td>\n",
       "      <td>Female</td>\n",
       "      <td>49</td>\n",
       "      <td>36000</td>\n",
       "      <td>1</td>\n",
       "    </tr>\n",
       "  </tbody>\n",
       "</table>\n",
       "<p>400 rows × 5 columns</p>\n",
       "</div>"
      ],
      "text/plain": [
       "      User ID  Gender  Age  EstimatedSalary  Purchased\n",
       "0    15624510    Male   19            19000          0\n",
       "1    15810944    Male   35            20000          0\n",
       "2    15668575  Female   26            43000          0\n",
       "3    15603246  Female   27            57000          0\n",
       "4    15804002    Male   19            76000          0\n",
       "..        ...     ...  ...              ...        ...\n",
       "395  15691863  Female   46            41000          1\n",
       "396  15706071    Male   51            23000          1\n",
       "397  15654296  Female   50            20000          1\n",
       "398  15755018    Male   36            33000          0\n",
       "399  15594041  Female   49            36000          1\n",
       "\n",
       "[400 rows x 5 columns]"
      ]
     },
     "execution_count": 7,
     "metadata": {},
     "output_type": "execute_result"
    }
   ],
   "source": [
    "# Handling missing values\n",
    "df.dropna()          # Drop rows with any NaN values\n",
    "df.fillna(0)         # Fill NaN values with zeros\n"
   ]
  },
  {
   "cell_type": "code",
   "execution_count": 8,
   "id": "35d05b06-9fd0-4108-87aa-28a1cb02f7da",
   "metadata": {},
   "outputs": [
    {
     "data": {
      "text/html": [
       "<div>\n",
       "<style scoped>\n",
       "    .dataframe tbody tr th:only-of-type {\n",
       "        vertical-align: middle;\n",
       "    }\n",
       "\n",
       "    .dataframe tbody tr th {\n",
       "        vertical-align: top;\n",
       "    }\n",
       "\n",
       "    .dataframe thead th {\n",
       "        text-align: right;\n",
       "    }\n",
       "</style>\n",
       "<table border=\"1\" class=\"dataframe\">\n",
       "  <thead>\n",
       "    <tr style=\"text-align: right;\">\n",
       "      <th></th>\n",
       "      <th>User ID</th>\n",
       "      <th>Gender</th>\n",
       "      <th>Age</th>\n",
       "      <th>EstimatedSalary</th>\n",
       "      <th>Purchased</th>\n",
       "    </tr>\n",
       "  </thead>\n",
       "  <tbody>\n",
       "    <tr>\n",
       "      <th>0</th>\n",
       "      <td>15624510</td>\n",
       "      <td>Male</td>\n",
       "      <td>19</td>\n",
       "      <td>19000</td>\n",
       "      <td>0</td>\n",
       "    </tr>\n",
       "    <tr>\n",
       "      <th>1</th>\n",
       "      <td>15810944</td>\n",
       "      <td>Male</td>\n",
       "      <td>35</td>\n",
       "      <td>20000</td>\n",
       "      <td>0</td>\n",
       "    </tr>\n",
       "    <tr>\n",
       "      <th>2</th>\n",
       "      <td>15668575</td>\n",
       "      <td>Female</td>\n",
       "      <td>26</td>\n",
       "      <td>43000</td>\n",
       "      <td>0</td>\n",
       "    </tr>\n",
       "    <tr>\n",
       "      <th>3</th>\n",
       "      <td>15603246</td>\n",
       "      <td>Female</td>\n",
       "      <td>27</td>\n",
       "      <td>57000</td>\n",
       "      <td>0</td>\n",
       "    </tr>\n",
       "    <tr>\n",
       "      <th>4</th>\n",
       "      <td>15804002</td>\n",
       "      <td>Male</td>\n",
       "      <td>19</td>\n",
       "      <td>76000</td>\n",
       "      <td>0</td>\n",
       "    </tr>\n",
       "    <tr>\n",
       "      <th>...</th>\n",
       "      <td>...</td>\n",
       "      <td>...</td>\n",
       "      <td>...</td>\n",
       "      <td>...</td>\n",
       "      <td>...</td>\n",
       "    </tr>\n",
       "    <tr>\n",
       "      <th>395</th>\n",
       "      <td>15691863</td>\n",
       "      <td>Female</td>\n",
       "      <td>46</td>\n",
       "      <td>41000</td>\n",
       "      <td>1</td>\n",
       "    </tr>\n",
       "    <tr>\n",
       "      <th>396</th>\n",
       "      <td>15706071</td>\n",
       "      <td>Male</td>\n",
       "      <td>51</td>\n",
       "      <td>23000</td>\n",
       "      <td>1</td>\n",
       "    </tr>\n",
       "    <tr>\n",
       "      <th>397</th>\n",
       "      <td>15654296</td>\n",
       "      <td>Female</td>\n",
       "      <td>50</td>\n",
       "      <td>20000</td>\n",
       "      <td>1</td>\n",
       "    </tr>\n",
       "    <tr>\n",
       "      <th>398</th>\n",
       "      <td>15755018</td>\n",
       "      <td>Male</td>\n",
       "      <td>36</td>\n",
       "      <td>33000</td>\n",
       "      <td>0</td>\n",
       "    </tr>\n",
       "    <tr>\n",
       "      <th>399</th>\n",
       "      <td>15594041</td>\n",
       "      <td>Female</td>\n",
       "      <td>49</td>\n",
       "      <td>36000</td>\n",
       "      <td>1</td>\n",
       "    </tr>\n",
       "  </tbody>\n",
       "</table>\n",
       "<p>400 rows × 5 columns</p>\n",
       "</div>"
      ],
      "text/plain": [
       "      User ID  Gender  Age  EstimatedSalary  Purchased\n",
       "0    15624510    Male   19            19000          0\n",
       "1    15810944    Male   35            20000          0\n",
       "2    15668575  Female   26            43000          0\n",
       "3    15603246  Female   27            57000          0\n",
       "4    15804002    Male   19            76000          0\n",
       "..        ...     ...  ...              ...        ...\n",
       "395  15691863  Female   46            41000          1\n",
       "396  15706071    Male   51            23000          1\n",
       "397  15654296  Female   50            20000          1\n",
       "398  15755018    Male   36            33000          0\n",
       "399  15594041  Female   49            36000          1\n",
       "\n",
       "[400 rows x 5 columns]"
      ]
     },
     "execution_count": 8,
     "metadata": {},
     "output_type": "execute_result"
    }
   ],
   "source": [
    "df"
   ]
  },
  {
   "cell_type": "code",
   "execution_count": 9,
   "id": "e17c07d1-8746-4770-b055-e8dbf21bddda",
   "metadata": {},
   "outputs": [
    {
     "name": "stdout",
     "output_type": "stream",
     "text": [
      "Before Handling Duplicates\n",
      "      User ID  Gender  Age  EstimatedSalary  Purchased\n",
      "0    15624510    Male   19            19000          0\n",
      "1    15810944    Male   35            20000          0\n",
      "2    15668575  Female   26            43000          0\n",
      "3    15603246  Female   27            57000          0\n",
      "4    15804002    Male   19            76000          0\n",
      "..        ...     ...  ...              ...        ...\n",
      "395  15691863  Female   46            41000          1\n",
      "396  15706071    Male   51            23000          1\n",
      "397  15654296  Female   50            20000          1\n",
      "398  15755018    Male   36            33000          0\n",
      "399  15594041  Female   49            36000          1\n",
      "\n",
      "[400 rows x 5 columns]\n",
      "\n",
      "After Handling Duplicates\n"
     ]
    },
    {
     "data": {
      "text/html": [
       "<div>\n",
       "<style scoped>\n",
       "    .dataframe tbody tr th:only-of-type {\n",
       "        vertical-align: middle;\n",
       "    }\n",
       "\n",
       "    .dataframe tbody tr th {\n",
       "        vertical-align: top;\n",
       "    }\n",
       "\n",
       "    .dataframe thead th {\n",
       "        text-align: right;\n",
       "    }\n",
       "</style>\n",
       "<table border=\"1\" class=\"dataframe\">\n",
       "  <thead>\n",
       "    <tr style=\"text-align: right;\">\n",
       "      <th></th>\n",
       "      <th>Name</th>\n",
       "      <th>Age</th>\n",
       "      <th>Salary</th>\n",
       "    </tr>\n",
       "  </thead>\n",
       "  <tbody>\n",
       "    <tr>\n",
       "      <th>0</th>\n",
       "      <td>Dinesh</td>\n",
       "      <td>19</td>\n",
       "      <td>200000</td>\n",
       "    </tr>\n",
       "    <tr>\n",
       "      <th>1</th>\n",
       "      <td>Omkar</td>\n",
       "      <td>18</td>\n",
       "      <td>150000</td>\n",
       "    </tr>\n",
       "    <tr>\n",
       "      <th>2</th>\n",
       "      <td>Tanmay</td>\n",
       "      <td>22</td>\n",
       "      <td>5000000</td>\n",
       "    </tr>\n",
       "    <tr>\n",
       "      <th>3</th>\n",
       "      <td>Pragati</td>\n",
       "      <td>20</td>\n",
       "      <td>1000000</td>\n",
       "    </tr>\n",
       "  </tbody>\n",
       "</table>\n",
       "</div>"
      ],
      "text/plain": [
       "      Name  Age   Salary\n",
       "0   Dinesh   19   200000\n",
       "1    Omkar   18   150000\n",
       "2   Tanmay   22  5000000\n",
       "3  Pragati   20  1000000"
      ]
     },
     "execution_count": 9,
     "metadata": {},
     "output_type": "execute_result"
    }
   ],
   "source": [
    "data ={ \"Name\":[\"Dinesh\", \"Omkar\", \"Tanmay\", \"Pragati\", \"Dinesh\"],\n",
    "       \"Age\": [19,18, 22, 20, 19],\n",
    "       \"Salary\" : [200000, 150000, 5000000, 1000000, 200000]}\n",
    "\n",
    "print(\"Before Handling Duplicates\")\n",
    "print(df)\n",
    "\n",
    "df = pd.DataFrame(data)\n",
    "\n",
    "print(\"\\nAfter Handling Duplicates\")\n",
    "# Handling duplicates\n",
    "df.drop_duplicates()  # Remove duplicate rows\n"
   ]
  },
  {
   "cell_type": "code",
   "execution_count": 10,
   "id": "33ab5529-4888-4f34-916c-432651ce38f7",
   "metadata": {},
   "outputs": [
    {
     "name": "stdout",
     "output_type": "stream",
     "text": [
      "Before Handling Missing Values: \n",
      "\n",
      "     A    B     C\n",
      "0  1.0  5.0   9.0\n",
      "1  2.0  NaN  10.0\n",
      "2  NaN  7.0  11.0\n",
      "3  4.0  8.0   NaN\n",
      "\n",
      "After Handling Missing Values: \n",
      "\n"
     ]
    },
    {
     "data": {
      "text/html": [
       "<div>\n",
       "<style scoped>\n",
       "    .dataframe tbody tr th:only-of-type {\n",
       "        vertical-align: middle;\n",
       "    }\n",
       "\n",
       "    .dataframe tbody tr th {\n",
       "        vertical-align: top;\n",
       "    }\n",
       "\n",
       "    .dataframe thead th {\n",
       "        text-align: right;\n",
       "    }\n",
       "</style>\n",
       "<table border=\"1\" class=\"dataframe\">\n",
       "  <thead>\n",
       "    <tr style=\"text-align: right;\">\n",
       "      <th></th>\n",
       "      <th>A</th>\n",
       "      <th>B</th>\n",
       "      <th>C</th>\n",
       "    </tr>\n",
       "  </thead>\n",
       "  <tbody>\n",
       "    <tr>\n",
       "      <th>0</th>\n",
       "      <td>1.0</td>\n",
       "      <td>5.0</td>\n",
       "      <td>9.0</td>\n",
       "    </tr>\n",
       "    <tr>\n",
       "      <th>1</th>\n",
       "      <td>2.0</td>\n",
       "      <td>0.0</td>\n",
       "      <td>10.0</td>\n",
       "    </tr>\n",
       "    <tr>\n",
       "      <th>2</th>\n",
       "      <td>0.0</td>\n",
       "      <td>7.0</td>\n",
       "      <td>11.0</td>\n",
       "    </tr>\n",
       "    <tr>\n",
       "      <th>3</th>\n",
       "      <td>4.0</td>\n",
       "      <td>8.0</td>\n",
       "      <td>0.0</td>\n",
       "    </tr>\n",
       "  </tbody>\n",
       "</table>\n",
       "</div>"
      ],
      "text/plain": [
       "     A    B     C\n",
       "0  1.0  5.0   9.0\n",
       "1  2.0  0.0  10.0\n",
       "2  0.0  7.0  11.0\n",
       "3  4.0  8.0   0.0"
      ]
     },
     "execution_count": 10,
     "metadata": {},
     "output_type": "execute_result"
    }
   ],
   "source": [
    "import numpy as np\n",
    "data = {\n",
    "    'A': [1, 2, np.nan, 4],\n",
    "    'B': [5, np.nan, 7, 8],\n",
    "    'C': [9, 10, 11, np.nan]\n",
    "}\n",
    "\n",
    "df = pd.DataFrame(data)\n",
    "print(\"Before Handling Missing Values: \\n\")\n",
    "print(df)\n",
    "\n",
    "\n",
    "print(\"\\nAfter Handling Missing Values: \\n\")\n",
    "# Filling Missing Values\n",
    "df.fillna(0)  # replace missing values by 0"
   ]
  },
  {
   "cell_type": "code",
   "execution_count": 11,
   "id": "dad9360c-f4b7-4178-9a4e-7ba4a978802c",
   "metadata": {},
   "outputs": [
    {
     "name": "stdout",
     "output_type": "stream",
     "text": [
      "DataFrame: \n",
      "\n",
      "      Name  Age    Salar\n",
      "0   Dinesh   19   200000\n",
      "1    Omkar   18   150000\n",
      "2   Tanmay   22  5000000\n",
      "3  Pragati   20  1000000\n",
      "4   Dinesh   19   200000\n",
      "After Rename DataFrame: \n",
      "\n",
      "      Name  Age   Salary\n",
      "0   Dinesh   19   200000\n",
      "1    Omkar   18   150000\n",
      "2   Tanmay   22  5000000\n",
      "3  Pragati   20  1000000\n",
      "4   Dinesh   19   200000\n"
     ]
    }
   ],
   "source": [
    "data ={ \"Name\":[\"Dinesh\", \"Omkar\", \"Tanmay\", \"Pragati\", \"Dinesh\"],\n",
    "       \"Age\": [19,18, 22, 20, 19],\n",
    "       \"Salar\" : [200000, 150000, 5000000, 1000000, 200000]}\n",
    "\n",
    "df = pd.DataFrame(data)\n",
    "print(\"DataFrame: \\n\")\n",
    "print(df)\n",
    "\n",
    "df.rename(columns={\"Salar\":\"Salary\"},inplace = True )\n",
    "\n",
    "print(\"After Rename DataFrame: \\n\")\n",
    "print(df)\n"
   ]
  },
  {
   "cell_type": "code",
   "execution_count": 12,
   "id": "b78cad4e-ebd9-4a8d-b72c-116b69a72fd8",
   "metadata": {},
   "outputs": [
    {
     "name": "stdout",
     "output_type": "stream",
     "text": [
      "DataFrame: \n",
      "\n",
      "      Name  Age   Salary\n",
      "0   Dinesh   19   200000\n",
      "1    Omkar   18   150000\n",
      "2   Tanmay   22  5000000\n",
      "3  Pragati   20  1000000\n",
      "4   Dinesh   19   200000\n",
      "\n",
      "After Changing Data type of Salary - DataFrame: \n",
      "\n",
      "      Name  Age     Salary\n",
      "0   Dinesh   19   200000.0\n",
      "1    Omkar   18   150000.0\n",
      "2   Tanmay   22  5000000.0\n",
      "3  Pragati   20  1000000.0\n",
      "4   Dinesh   19   200000.0\n"
     ]
    }
   ],
   "source": [
    "data ={ \"Name\":[\"Dinesh\", \"Omkar\", \"Tanmay\", \"Pragati\", \"Dinesh\"],\n",
    "       \"Age\": [19,18, 22, 20, 19],\n",
    "       \"Salary\" : [200000, 150000, 5000000, 1000000, 200000]}\n",
    "\n",
    "df = pd.DataFrame(data)\n",
    "print(\"DataFrame: \\n\")\n",
    "print(df)\n",
    "\n",
    "# Changing data types\n",
    "df['Salary'] = df['Salary'].astype(float)\n",
    "\n",
    "print(\"\\nAfter Changing Data type of Salary - DataFrame: \\n\")\n",
    "print(df)"
   ]
  },
  {
   "cell_type": "markdown",
   "id": "55e3b48a-7906-45ed-8723-4cef538c4b43",
   "metadata": {},
   "source": [
    "#### Data Visualization"
   ]
  },
  {
   "cell_type": "code",
   "execution_count": 13,
   "id": "02c7a29e-7876-4e5c-9da6-0a8e0d2a2717",
   "metadata": {},
   "outputs": [
    {
     "data": {
      "text/plain": [
       "<Axes: >"
      ]
     },
     "execution_count": 13,
     "metadata": {},
     "output_type": "execute_result"
    },
    {
     "data": {
      "image/png": "[encoded data removed]",
      "text/plain": [
       "<Figure size 640x480 with 1 Axes>"
      ]
     },
     "metadata": {},
     "output_type": "display_data"
    }
   ],
   "source": [
    "df[\"Salary\"].plot(kind=\"bar\")"
   ]
  },
  {
   "cell_type": "code",
   "execution_count": 14,
   "id": "a17627d7-bc98-4b3c-9540-836fdf1bcfff",
   "metadata": {},
   "outputs": [
    {
     "data": {
      "text/plain": [
       "<Axes: >"
      ]
     },
     "execution_count": 14,
     "metadata": {},
     "output_type": "execute_result"
    },
    {
     "data": {
      "image/png": "[encoded data removed]",
      "text/plain": [
       "<Figure size 640x480 with 1 Axes>"
      ]
     },
     "metadata": {},
     "output_type": "display_data"
    }
   ],
   "source": [
    "\n",
    "df[\"Salary\"].plot(kind=\"line\")"
   ]
  },
  {
   "cell_type": "code",
   "execution_count": 15,
   "id": "6beab4df-cab2-4994-adf7-8f2d7180ce7e",
   "metadata": {},
   "outputs": [
    {
     "data": {
      "text/plain": [
       "<Axes: ylabel='Frequency'>"
      ]
     },
     "execution_count": 15,
     "metadata": {},
     "output_type": "execute_result"
    },
    {
     "data": {
      "image/png": "[encoded data removed]",
      "text/plain": [
       "<Figure size 640x480 with 1 Axes>"
      ]
     },
     "metadata": {},
     "output_type": "display_data"
    }
   ],
   "source": [
    "df[\"Salary\"].plot(kind=\"hist\")\n"
   ]
  },
  {
   "cell_type": "markdown",
   "id": "7a6780e8-283c-48cc-ba18-53c519171152",
   "metadata": {},
   "source": [
    "#### Data Aggregation:"
   ]
  },
  {
   "cell_type": "code",
   "execution_count": 16,
   "id": "9d2ca551-0fa0-4caa-b424-410e596cc94a",
   "metadata": {},
   "outputs": [
    {
     "name": "stdout",
     "output_type": "stream",
     "text": [
      "         Value                    \n",
      "           sum  mean max min count\n",
      "Category                          \n",
      "A           30  10.0  15   5     3\n",
      "B           45  22.5  25  20     2\n"
     ]
    }
   ],
   "source": [
    "# Creating a DataFrame\n",
    "data = {\n",
    "    'Category': ['A', 'A', 'B', 'B', 'A'],\n",
    "    'Value': [10, 15, 20, 25, 5]\n",
    "}\n",
    "\n",
    "df = pd.DataFrame(data)\n",
    "\n",
    "# Grouping by a column and calculating aggregate statistics\n",
    "grouped_data = df.groupby('Category').agg({'Value': ['sum', 'mean','max','min',\"count\"]})\n",
    "\n",
    "print(grouped_data)"
   ]
  },
  {
   "cell_type": "markdown",
   "id": "f819d2df-f186-4ffa-978e-6ca226c38998",
   "metadata": {},
   "source": [
    "#### Merging and Joining Data"
   ]
  },
  {
   "cell_type": "code",
   "execution_count": 17,
   "id": "bc9fb455-fb4b-43fc-80dc-601167c4069f",
   "metadata": {},
   "outputs": [
    {
     "name": "stdout",
     "output_type": "stream",
     "text": [
      "   ID     Name  Age\n",
      "0   2      Bob   25\n",
      "1   3  Charlie   30\n"
     ]
    }
   ],
   "source": [
    "# Creating two DataFrames\n",
    "data1 = {'ID': [1, 2, 3], 'Name': ['Alice', 'Bob', 'Charlie']}\n",
    "data2 = {'ID': [2, 3, 4], 'Age': [25, 30, 35]}\n",
    "\n",
    "df1 = pd.DataFrame(data1)\n",
    "df2 = pd.DataFrame(data2)\n",
    "\n",
    "# Merging DataFrames based on a common column (ID in this case)\n",
    "merged_df = pd.merge(df1, df2, on='ID', how='inner')\n",
    "\n",
    "print(merged_df)"
   ]
  },
  {
   "cell_type": "code",
   "execution_count": 29,
   "id": "61692701-8b81-44aa-9e4f-00ab462cc482",
   "metadata": {},
   "outputs": [
    {
     "name": "stdout",
     "output_type": "stream",
     "text": [
      "   ID     Name  Subject  Score\n",
      "0   1    Alice     Math     90\n",
      "1   2      Bob     Math     85\n",
      "2   3  Charlie     Math     80\n",
      "3   1    Alice  Science     95\n",
      "4   2      Bob  Science     89\n",
      "5   3  Charlie  Science     78\n"
     ]
    }
   ],
   "source": [
    "\n",
    "# Creating a DataFrame\n",
    "data = {\n",
    "    \"ID\":[1,2,3],\n",
    "    'Name': ['Alice', 'Bob', 'Charlie'],\n",
    "    'Math': [90, 85, 80],\n",
    "    'Science': [95, 89, 78]\n",
    "}\n",
    "\n",
    "df = pd.DataFrame(data)\n",
    "\n",
    "# Reshaping the DataFrame using the melt function\n",
    "df_melted = pd.melt(df,id_vars=[\"ID\", \"Name\"],var_name='Subject',  value_name='Score')\n",
    "# here id_vars = list of columns which should not be unchanged\n",
    "# var_name = name of column after melting columns\n",
    "# value_name : values of column after melting\n",
    "\n",
    "print(df_melted)\n"
   ]
  },
  {
   "cell_type": "code",
   "execution_count": null,
   "id": "7583acd9-fe7f-4bb0-a5e3-47f822ba495f",
   "metadata": {},
   "outputs": [],
   "source": []
  }
 ],
 "metadata": {
  "kernelspec": {
   "display_name": "Python 3 (ipykernel)",
   "language": "python",
   "name": "python3"
  },
  "language_info": {
   "codemirror_mode": {
    "name": "ipython",
    "version": 3
   },
   "file_extension": ".py",
   "mimetype": "text/x-python",
   "name": "python",
   "nbconvert_exporter": "python",
   "pygments_lexer": "ipython3",
   "version": "3.11.4"
  }
 },
 "nbformat": 4,
 "nbformat_minor": 5
}
